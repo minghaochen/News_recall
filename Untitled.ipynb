{
 "cells": [
  {
   "cell_type": "code",
   "execution_count": 1,
   "id": "afb9942e-f74c-4726-9659-066290c9ad48",
   "metadata": {},
   "outputs": [],
   "source": [
    "from model import TextBackbone\n",
    "from tqdm import tqdm\n",
    "from os.path import join"
   ]
  },
  {
   "cell_type": "code",
   "execution_count": 2,
   "id": "224795bd-f030-4d5a-84be-39807b757a30",
   "metadata": {},
   "outputs": [
    {
     "name": "stderr",
     "output_type": "stream",
     "text": [
      "1it [00:00, 1484.71it/s]\n"
     ]
    },
    {
     "name": "stdout",
     "output_type": "stream",
     "text": [
      "['0', '11', '79 2 4 208 , 370 1327 1372 121 49276']\n"
     ]
    },
    {
     "name": "stderr",
     "output_type": "stream",
     "text": [
      "1it [00:00, 5275.85it/s]"
     ]
    },
    {
     "name": "stdout",
     "output_type": "stream",
     "text": [
      "['0', '11059', '117 493 2008 21720 517 25323 8854 2081 493 5766']\n"
     ]
    },
    {
     "name": "stderr",
     "output_type": "stream",
     "text": [
      "\n"
     ]
    }
   ],
   "source": [
    "count = 0\n",
    "data = []\n",
    "data_dir = \"./data\"\n",
    "\n",
    "train_data = {}\n",
    "for name in [\"train\", \"dev\"]:\n",
    "    count = 0\n",
    "    with open(join(data_dir, \"News2022_{}.tsv\".format(name)), \"r\", encoding=\"utf8\") as fr:\n",
    "        for line in tqdm(fr):\n",
    "            \n",
    "            if count == 0:\n",
    "                count += 1\n",
    "                continue\n",
    "            print(line.strip().split(\"\\t\"))\n",
    "            break"
   ]
  },
  {
   "cell_type": "code",
   "execution_count": 3,
   "id": "4f26eb96-a72b-4484-afd3-2b3d92b89708",
   "metadata": {},
   "outputs": [],
   "source": [
    "from data import Supervised "
   ]
  },
  {
   "cell_type": "code",
   "execution_count": 4,
   "id": "f27a854a-4b43-4859-8819-174370784c92",
   "metadata": {},
   "outputs": [
    {
     "name": "stderr",
     "output_type": "stream",
     "text": [
      "2666764it [01:16, 34788.25it/s]\n",
      "161814it [00:01, 96435.44it/s]\n",
      "10001it [00:00, 94714.03it/s]\n"
     ]
    }
   ],
   "source": [
    "dataset = Supervised()"
   ]
  },
  {
   "cell_type": "code",
   "execution_count": 5,
   "id": "713128ab-698a-44ee-af9a-f48139412d8a",
   "metadata": {},
   "outputs": [
    {
     "data": {
      "text/plain": [
       "171813"
      ]
     },
     "execution_count": 5,
     "metadata": {},
     "output_type": "execute_result"
    }
   ],
   "source": [
    "len(dataset.train_data)"
   ]
  },
  {
   "cell_type": "code",
   "execution_count": 6,
   "id": "bb1768fc-c65a-447d-a670-204b1ac06df5",
   "metadata": {},
   "outputs": [],
   "source": [
    "from torch.utils.data import DataLoader\n",
    "dataloader = DataLoader(dataset, batch_size=8, shuffle=True, drop_last=True)"
   ]
  },
  {
   "cell_type": "code",
   "execution_count": 7,
   "id": "7d6e6521-3f2f-4202-8357-7739adcbf781",
   "metadata": {},
   "outputs": [
    {
     "data": {
      "text/plain": [
       "{'input_ids': tensor([[[    0,  1264,   131,  ...,     4,     4,     4],\n",
       "          [    0,  5205,  1188,  ..., 12577,   246,     1],\n",
       "          [    0,   463,   327,  ...,  1137,   346,     1]],\n",
       " \n",
       "         [[    0,  1085,  2549,  ...,     4,     4,     4],\n",
       "          [    0,  2855,    60,  ..., 16890,   152,     1],\n",
       "          [    0,  8041,   173,  ...,   173,   169,     1]],\n",
       " \n",
       "         [[    0,  8995,  2714,  ...,     4,     4,     4],\n",
       "          [    0,  8990,   349,  ...,  1362,   113,     1],\n",
       "          [    0,     3,   241,  ...,  1497, 14567,     1]],\n",
       " \n",
       "         ...,\n",
       " \n",
       "         [[    0,   443,  1551,  ...,     4,     4,     4],\n",
       "          [    0, 12608,   169,  ..., 23282,    25,     1],\n",
       "          [    0,   191,    78,  ...,  9498,   698,     1]],\n",
       " \n",
       "         [[    0,  1013,   113,  ...,     4,     4,     4],\n",
       "          [    0,   907,    90,  ...,    29, 26183,     1],\n",
       "          [    0,  4159,  3156,  ...,   246,   169,     1]],\n",
       " \n",
       "         [[    0,  5194,   140,  ...,     4,     4,     4],\n",
       "          [    0,   253,   191,  ...,  9900,  2914,     1],\n",
       "          [    0,     3,  5782,  ...,  6166,   300,     1]]], device='cuda:0'),\n",
       " 'token_type_ids': tensor([[[0, 0, 0,  ..., 0, 0, 0],\n",
       "          [0, 0, 0,  ..., 0, 0, 0],\n",
       "          [0, 0, 0,  ..., 0, 0, 0]],\n",
       " \n",
       "         [[0, 0, 0,  ..., 0, 0, 0],\n",
       "          [0, 0, 0,  ..., 0, 0, 0],\n",
       "          [0, 0, 0,  ..., 0, 0, 0]],\n",
       " \n",
       "         [[0, 0, 0,  ..., 0, 0, 0],\n",
       "          [0, 0, 0,  ..., 0, 0, 0],\n",
       "          [0, 0, 0,  ..., 0, 0, 0]],\n",
       " \n",
       "         ...,\n",
       " \n",
       "         [[0, 0, 0,  ..., 0, 0, 0],\n",
       "          [0, 0, 0,  ..., 0, 0, 0],\n",
       "          [0, 0, 0,  ..., 0, 0, 0]],\n",
       " \n",
       "         [[0, 0, 0,  ..., 0, 0, 0],\n",
       "          [0, 0, 0,  ..., 0, 0, 0],\n",
       "          [0, 0, 0,  ..., 0, 0, 0]],\n",
       " \n",
       "         [[0, 0, 0,  ..., 0, 0, 0],\n",
       "          [0, 0, 0,  ..., 0, 0, 0],\n",
       "          [0, 0, 0,  ..., 0, 0, 0]]], device='cuda:0'),\n",
       " 'attention_mask': tensor([[[1, 1, 1,  ..., 0, 0, 0],\n",
       "          [1, 1, 1,  ..., 1, 1, 1],\n",
       "          [1, 1, 1,  ..., 1, 1, 1]],\n",
       " \n",
       "         [[1, 1, 1,  ..., 0, 0, 0],\n",
       "          [1, 1, 1,  ..., 1, 1, 1],\n",
       "          [1, 1, 1,  ..., 1, 1, 1]],\n",
       " \n",
       "         [[1, 1, 1,  ..., 0, 0, 0],\n",
       "          [1, 1, 1,  ..., 1, 1, 1],\n",
       "          [1, 1, 1,  ..., 1, 1, 1]],\n",
       " \n",
       "         ...,\n",
       " \n",
       "         [[1, 1, 1,  ..., 0, 0, 0],\n",
       "          [1, 1, 1,  ..., 1, 1, 1],\n",
       "          [1, 1, 1,  ..., 1, 1, 1]],\n",
       " \n",
       "         [[1, 1, 1,  ..., 0, 0, 0],\n",
       "          [1, 1, 1,  ..., 1, 1, 1],\n",
       "          [1, 1, 1,  ..., 1, 1, 1]],\n",
       " \n",
       "         [[1, 1, 1,  ..., 0, 0, 0],\n",
       "          [1, 1, 1,  ..., 1, 1, 1],\n",
       "          [1, 1, 1,  ..., 1, 1, 1]]], device='cuda:0')}"
      ]
     },
     "execution_count": 7,
     "metadata": {},
     "output_type": "execute_result"
    }
   ],
   "source": [
    "next(iter(dataloader))"
   ]
  },
  {
   "cell_type": "code",
   "execution_count": 1,
   "id": "38696822-4c8c-4bf7-bed9-55f3cad49e0f",
   "metadata": {},
   "outputs": [],
   "source": [
    "a = {'1':1,'2':2}"
   ]
  },
  {
   "cell_type": "code",
   "execution_count": 2,
   "id": "18f5a8ce-504a-4f6e-a631-cd11d49f9f79",
   "metadata": {},
   "outputs": [
    {
     "data": {
      "text/plain": [
       "{'1': 1, '2': 2}"
      ]
     },
     "execution_count": 2,
     "metadata": {},
     "output_type": "execute_result"
    }
   ],
   "source": [
    "a"
   ]
  },
  {
   "cell_type": "code",
   "execution_count": 7,
   "id": "7a0a59fa-0339-4020-8d10-961140f5cd18",
   "metadata": {},
   "outputs": [
    {
     "data": {
      "text/plain": [
       "['1', '2']"
      ]
     },
     "execution_count": 7,
     "metadata": {},
     "output_type": "execute_result"
    }
   ],
   "source": [
    "list(a.keys())"
   ]
  },
  {
   "cell_type": "code",
   "execution_count": null,
   "id": "e215a4cc-67f9-4706-ad77-419d40eaef18",
   "metadata": {},
   "outputs": [],
   "source": []
  }
 ],
 "metadata": {
  "kernelspec": {
   "display_name": "Python 3 (ipykernel)",
   "language": "python",
   "name": "python3"
  },
  "language_info": {
   "codemirror_mode": {
    "name": "ipython",
    "version": 3
   },
   "file_extension": ".py",
   "mimetype": "text/x-python",
   "name": "python",
   "nbconvert_exporter": "python",
   "pygments_lexer": "ipython3",
   "version": "3.8.10"
  }
 },
 "nbformat": 4,
 "nbformat_minor": 5
}

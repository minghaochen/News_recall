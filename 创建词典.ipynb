{
 "cells": [
  {
   "cell_type": "code",
   "execution_count": 2,
   "id": "30772259-f4bf-4f4d-8260-ed2286daba0f",
   "metadata": {},
   "outputs": [],
   "source": [
    "from os.path import join\n",
    "from collections import defaultdict\n",
    "from tqdm import tqdm\n"
   ]
  },
  {
   "cell_type": "code",
   "execution_count": 29,
   "id": "f7d79563-7226-4c74-ad54-044d48830ec1",
   "metadata": {},
   "outputs": [
    {
     "name": "stderr",
     "output_type": "stream",
     "text": [
      "2666764it [20:27, 2171.73it/s]\n"
     ]
    },
    {
     "name": "stdout",
     "output_type": "stream",
     "text": [
      "28198\n"
     ]
    }
   ],
   "source": [
    "# 至少出现2000词的词才放到vocab中\n",
    "MIN_COUNT = 2000\n",
    "# 20个unused足以够后面使用了\n",
    "SPECIAL_TOKENS = [\"[CLS]\", \"[SEP]\", \"[MASK]\", \"[UNK]\", \"[PAD]\"] + [\"[unused{}]\".format(i) for i in range(1, 21)]\n",
    "data_dir = \"./data\"\n",
    "word2count = defaultdict(int)\n",
    "\n",
    "for name in [\"train\", \"dev\", \"test\"]:\n",
    "    with open(join(data_dir, \"News2022_{}.tsv\".format(name)), \"r\", encoding=\"utf8\") as fr:\n",
    "        for line in fr:\n",
    "            for word in line.strip().split(\"\\t\")[-1].split(\" \"):\n",
    "                word = word.strip()\n",
    "                if len(word) > 0:\n",
    "                    word2count[word] += 1\n",
    "with open(\"data/News2022_doc.tsv\", \"r\", encoding=\"utf8\") as fr:\n",
    "    for line in tqdm(fr):\n",
    "        for word in line.strip().split(\"\\t\")[-1].split(\" \"):\n",
    "            word = word.strip()\n",
    "            if len(word) > 0:\n",
    "                word2count[word] += 1\n",
    "# 存储\n",
    "data = [k for k, v in word2count.items() if v > MIN_COUNT]\n",
    "data = SPECIAL_TOKENS + data\n",
    "print(len(data))\n",
    "with open(join(data_dir, \"vocab.txt\"), \"w\", encoding=\"utf8\") as fw:\n",
    "    fw.writelines([w + \"\\n\" for w in data])"
   ]
  },
  {
   "cell_type": "code",
   "execution_count": 38,
   "id": "c638f494-ef40-44bf-a573-00e8dc147d4c",
   "metadata": {},
   "outputs": [
    {
     "name": "stderr",
     "output_type": "stream",
     "text": [
      "161814it [00:00, 822676.12it/s]\n",
      "10001it [00:00, 699132.22it/s]\n",
      "10001it [00:00, 738468.64it/s]\n",
      "2666764it [00:55, 48032.56it/s]\n"
     ]
    }
   ],
   "source": [
    "# 生成一个逐行的数据用于预训练\n",
    "data = []\n",
    "for name in [\"train\", \"dev\", \"test\"]:\n",
    "    count = 0\n",
    "    with open(join(data_dir, \"News2022_{}.tsv\".format(name)), \"r\", encoding=\"utf8\") as fr:\n",
    "        for line in tqdm(fr):\n",
    "            if count == 0:\n",
    "                count += 1\n",
    "                continue\n",
    "#             print(line.strip().split(\"\\t\")[-1])\n",
    "            data.append(line.strip().split(\"\\t\")[-1])\n",
    "#             if count == 1:\n",
    "#                 break\n",
    "\n",
    "count = 0\n",
    "with open(\"data/News2022_doc.tsv\", \"r\", encoding=\"utf8\") as fr:\n",
    "    for line in tqdm(fr):\n",
    "        if count == 0:\n",
    "            count += 1\n",
    "            continue\n",
    "#         print(line.strip().split(\"\\t\")[-1])\n",
    "        data.append(line.strip().split(\"\\t\")[-1])\n",
    "#         if count == 1:\n",
    "#             break\n",
    "\n",
    "with open(join(data_dir, \"LineText_for_BERT.txt\"), \"w\", encoding=\"utf8\") as fw:\n",
    "    fw.writelines([w + \"\\n\" for w in data])    "
   ]
  },
  {
   "cell_type": "code",
   "execution_count": 4,
   "id": "90ed0961-a029-4d98-b079-fc4e5592fbde",
   "metadata": {},
   "outputs": [
    {
     "name": "stderr",
     "output_type": "stream",
     "text": [
      "161814it [00:00, 203480.17it/s]\n",
      "10001it [00:00, 115508.12it/s]\n",
      "10001it [00:00, 58097.46it/s]\n"
     ]
    }
   ],
   "source": [
    "# debug\n",
    "data_dir = \"./data\"\n",
    "data = []\n",
    "for name in [\"train\", \"dev\", \"test\"]:\n",
    "    count = 0\n",
    "    with open(join(data_dir, \"News2022_{}.tsv\".format(name)), \"r\", encoding=\"utf8\") as fr:\n",
    "        for line in tqdm(fr):\n",
    "            if count == 0:\n",
    "                count += 1\n",
    "                continue\n",
    "#             print(line.strip().split(\"\\t\")[-1])\n",
    "            data.append(line.strip().split(\"\\t\")[-1])\n",
    "\n",
    "with open(join(data_dir, \"LineText_for_BERT_debug.txt\"), \"w\", encoding=\"utf8\") as fw:\n",
    "    fw.writelines([w + \"\\n\" for w in data])  "
   ]
  },
  {
   "cell_type": "code",
   "execution_count": null,
   "id": "cf44528e-7366-4275-a9d8-cb9ad5931926",
   "metadata": {},
   "outputs": [],
   "source": []
  }
 ],
 "metadata": {
  "kernelspec": {
   "display_name": "Python 3 (ipykernel)",
   "language": "python",
   "name": "python3"
  },
  "language_info": {
   "codemirror_mode": {
    "name": "ipython",
    "version": 3
   },
   "file_extension": ".py",
   "mimetype": "text/x-python",
   "name": "python",
   "nbconvert_exporter": "python",
   "pygments_lexer": "ipython3",
   "version": "3.8.10"
  }
 },
 "nbformat": 4,
 "nbformat_minor": 5
}
